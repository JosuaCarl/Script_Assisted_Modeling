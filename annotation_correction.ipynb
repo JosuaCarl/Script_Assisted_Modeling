{
 "cells": [
  {
   "cell_type": "markdown",
   "id": "a1f637c5-5a4f-4a31-83b3-68db2af73a5f",
   "metadata": {},
   "source": [
    "## LibSBML Correction of Annotations"
   ]
  },
  {
   "cell_type": "code",
   "execution_count": 1,
   "id": "9ccb0c2a-f305-4c5c-b8e6-61fdae4b7662",
   "metadata": {},
   "outputs": [
    {
     "name": "stdout",
     "output_type": "stream",
     "text": [
      "Scaling...\n",
      " A: min|aij| =  1.000e+00  max|aij| =  1.000e+00  ratio =  1.000e+00\n",
      "Problem data seem to be well scaled\n"
     ]
    }
   ],
   "source": [
    "import sys\n",
    "import os\n",
    "import libsbml\n",
    "import pandas as pd\n",
    "import cobra\n",
    "\n",
    "def get_model_path(extensions = \".fo.ch.mp.mcb.lt.re.ar.gpr.pw.gf1.gfmm.gf2.gfco3.circ.mcb2.sbo.eco.mp2.re\"):\n",
    "    return f\"2.2/finegoldia_magna_ATCC_29328_2.2{extensions}.xml\"\n",
    "\n",
    "extensions = [\".fo\",\".ch\", \".mp\", \".mcb\", \".lt\", \".re\", \".ar\", \".gpr\", \".pw\", \".gf1\", \".gfmm\", \".gf2\", \".gfco3\", \".circ\", \".mcb2\", \".sbo\", \".eco\", \".mp2\", \".re\", \"\"]\n",
    "\n",
    "reader = libsbml.SBMLReader()\n",
    "writer = libsbml.SBMLWriter()\n",
    "\n",
    "doc = reader.readSBML(get_model_path())\n",
    "model = doc.getModel()\n",
    "\n",
    "model_cobra = cobra.io.read_sbml_model(get_model_path())"
   ]
  },
  {
   "cell_type": "code",
   "execution_count": 2,
   "id": "856ae412-d2b8-4059-92c2-4644142fd075",
   "metadata": {},
   "outputs": [],
   "source": [
    "pathway_dict = dict()\n",
    "for r in model_cobra.reactions:\n",
    "    if \"kegg.pathway\" in r.annotation:\n",
    "        pws =  r.annotation[\"kegg.pathway\"]\n",
    "        if not isinstance(pws, list):\n",
    "            pws = [pws]\n",
    "        pathway_dict[r.id] = pws\n",
    "        r.annotation.pop(\"kegg.pathway\")"
   ]
  },
  {
   "cell_type": "code",
   "execution_count": 3,
   "id": "ac0d95e1-a5b4-4b76-a860-9fec28e911c2",
   "metadata": {},
   "outputs": [],
   "source": [
    "def make_cv_term(link: str, qual_type):\n",
    "    c = libsbml.CVTerm()\n",
    "    c.setQualifierType(libsbml.BIOLOGICAL_QUALIFIER)\n",
    "    c.setBiologicalQualifierType(qual_type)\n",
    "    c.addResource(link)\n",
    "    return c\n",
    "\n",
    "def change_qual_annotation_reaction(model, lnk, qual_type, s_id):\n",
    "    cv_term = make_cv_term(lnk, qual_type)\n",
    "    \n",
    "    for k in range(model.getReaction(s_id).getNumCVTerms()):\n",
    "        rl = model.getReaction(s_id).getCVTerm(k).getResources().getLength()\n",
    "        for j in range(rl):\n",
    "            if model.getReaction(s_id).getCVTerm(k).getResources().getValue(j) == lnk:\n",
    "                model.getReaction(s_id).getCVTerm(k).getResources().remove(j)\n",
    "        \n",
    "    model.getReaction(s_id).addCVTerm(cv_term)\n",
    "        \n",
    "    return model"
   ]
  },
  {
   "cell_type": "code",
   "execution_count": 5,
   "id": "98a334c8-063f-42b6-b8c9-54f9f81148f0",
   "metadata": {
    "tags": []
   },
   "outputs": [
    {
     "name": "stderr",
     "output_type": "stream",
     "text": [
      "100%|██████████| 719/719 [00:01<00:00, 376.31it/s]\n"
     ]
    }
   ],
   "source": [
    "from tqdm import tqdm\n",
    "\n",
    "model.populateAllElementIdList()\n",
    "for c_id, pws in tqdm(pathway_dict.items()):\n",
    "    if not model.getAllElementIdList().contains(f\"R_{c_id}\"):\n",
    "        print(c_id)\n",
    "    for pw in pws:\n",
    "        lnk = f\"https://identifiers.org/kegg.pathway/{pw}\"\n",
    "        model = change_qual_annotation_reaction(model, lnk, libsbml.BQB_OCCURS_IN, f\"R_{c_id}\")"
   ]
  },
  {
   "cell_type": "code",
   "execution_count": 11,
   "id": "8809d8f8-129b-4131-b2e9-e4e52ff4e4a2",
   "metadata": {},
   "outputs": [
    {
     "data": {
      "text/plain": [
       "True"
      ]
     },
     "execution_count": 11,
     "metadata": {},
     "output_type": "execute_result"
    }
   ],
   "source": [
    "# Export model\n",
    "doc.setModel(model)\n",
    "writer.writeSBML(doc, f\"{get_model_path()[:-4]}.acor.xml\")"
   ]
  },
  {
   "cell_type": "code",
   "execution_count": null,
   "id": "eb1f7af1-4a25-4dac-a8bf-a3b20663d82c",
   "metadata": {},
   "outputs": [],
   "source": []
  }
 ],
 "metadata": {
  "kernelspec": {
   "display_name": "Python 3 (ipykernel)",
   "language": "python",
   "name": "python3"
  },
  "language_info": {
   "codemirror_mode": {
    "name": "ipython",
    "version": 3
   },
   "file_extension": ".py",
   "mimetype": "text/x-python",
   "name": "python",
   "nbconvert_exporter": "python",
   "pygments_lexer": "ipython3",
   "version": "3.10.2"
  }
 },
 "nbformat": 4,
 "nbformat_minor": 5
}
