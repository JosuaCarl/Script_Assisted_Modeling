{
 "cells": [
  {
   "cell_type": "markdown",
   "id": "86058a45-cc01-4125-9067-4712e89da903",
   "metadata": {},
   "source": [
    "## Re-balancing the model"
   ]
  },
  {
   "cell_type": "code",
   "execution_count": 1,
   "id": "c1ce8ab0-635e-4fbd-9470-92824c73caba",
   "metadata": {},
   "outputs": [
    {
     "name": "stdout",
     "output_type": "stream",
     "text": [
      "100%|█████████████████████████████████████| 1321/1321 [00:00<00:00, 6073.55it/s]\n"
     ]
    }
   ],
   "source": [
    "!python balance_analysis.py 2.2/finegoldia_magna_ATCC_29328_2.2.fo.ch.mp.mcb.lt.re.ar.gpr.pw.gf1.gfmm.gf2.gfco3.circ.xml 2.2/tables/mc-imbalances/mc_imb3.3.csv"
   ]
  },
  {
   "cell_type": "code",
   "execution_count": 2,
   "id": "f027e240-9a82-4511-8d6a-0f5aacec4eb0",
   "metadata": {},
   "outputs": [
    {
     "name": "stdout",
     "output_type": "stream",
     "text": [
      "100%|███████████████████████████████████████| 103/103 [00:00<00:00, 3056.68it/s]\n"
     ]
    }
   ],
   "source": [
    "!python balance_from_csv.py 2.2/finegoldia_magna_ATCC_29328_2.2.fo.ch.mp.mcb.lt.re.ar.gpr.pw.gf1.gfmm.gf2.gfco3.circ.xml 2.2/finegoldia_magna_ATCC_29328_2.2.fo.ch.mp.mcb.lt.re.ar.gpr.pw.gf1.gfmm.gf2.gfco3.circ.mcb2.xml 2.2/tables/balancing_changes2.csv finegoldia_magna_ATCC_29328 2.2"
   ]
  },
  {
   "cell_type": "code",
   "execution_count": 3,
   "id": "3265d125-cb7e-44d7-8a88-7b0b88e63c0b",
   "metadata": {},
   "outputs": [],
   "source": [
    "import cobra\n",
    "import memote\n",
    "import pandas as pd\n",
    "# import model\n",
    "model = cobra.io.read_sbml_model(\"2.2/finegoldia_magna_ATCC_29328_2.2.fo.ch.mp.mcb.lt.re.ar.gpr.pw.gf1.gfmm.gf2.gfco3.circ.mcb2.xml\")\n",
    "\n",
    "unwanted_metabolites = [\"EX_o2_e\"]\n",
    "\n",
    "# import medium\n",
    "snm3 = pd.read_csv(\"SNM3.csv\", sep=\"\\t\")\n",
    "snm3_dict = {f\"EX_{met['BiGG']}_e\" : 10.0 for i,met in snm3.iterrows()}\n",
    "\n",
    "for reac in model.exchanges:\n",
    "    if reac.id in snm3_dict and reac.id not in unwanted_metabolites:\n",
    "        reac.lower_bound = -10.0\n",
    "    else:\n",
    "        reac.lower_bound = 0.0"
   ]
  },
  {
   "cell_type": "code",
   "execution_count": 4,
   "id": "84aa1272-5b60-4353-b795-1f5eddc0e368",
   "metadata": {},
   "outputs": [],
   "source": [
    "orphaned_imbal_reactions = [\"AGPATCOA_PALM_MYRS_c\" ,\"AGPATCOA_PALM_STC_c\", \"AGPATCOA_PALM_EPA_c\", \"AGPATCOA_PALM_DHA_c\"]\n",
    "model.remove_reactions(orphaned_imbal_reactions)\n",
    "\n",
    "cobra.io.write_sbml_model(model, \"2.2/finegoldia_magna_ATCC_29328_2.2.fo.ch.mp.mcb.lt.re.ar.gpr.pw.gf1.gfmm.gf2.gfco3.circ.mcb2.xml\")"
   ]
  },
  {
   "cell_type": "code",
   "execution_count": 5,
   "id": "81871dd8-fdc6-4da2-8db6-0c36aa96a642",
   "metadata": {},
   "outputs": [
    {
     "name": "stdout",
     "output_type": "stream",
     "text": [
      "100%|████████████████████████████████████| 1317/1317 [00:00<00:00, 24288.88it/s]\n"
     ]
    }
   ],
   "source": [
    "!python balance_analysis.py 2.2/finegoldia_magna_ATCC_29328_2.2.fo.ch.mp.mcb.lt.re.ar.gpr.pw.gf1.gfmm.gf2.gfco3.circ.mcb2.xml 2.2/tables/mc-imbalances/mc_imb3.4.csv"
   ]
  },
  {
   "cell_type": "code",
   "execution_count": null,
   "id": "86b975b3-e74b-48fe-bcc8-762f2ff08844",
   "metadata": {},
   "outputs": [],
   "source": []
  }
 ],
 "metadata": {
  "kernelspec": {
   "display_name": "Python 3",
   "language": "python",
   "name": "python3"
  },
  "language_info": {
   "codemirror_mode": {
    "name": "ipython",
    "version": 3
   },
   "file_extension": ".py",
   "mimetype": "text/x-python",
   "name": "python",
   "nbconvert_exporter": "python",
   "pygments_lexer": "ipython3",
   "version": "3.8.8"
  }
 },
 "nbformat": 4,
 "nbformat_minor": 5
}
